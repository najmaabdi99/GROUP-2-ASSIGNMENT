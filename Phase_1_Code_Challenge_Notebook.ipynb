{
  "cells": [
    {
      "cell_type": "markdown",
      "metadata": {
        "id": "view-in-github",
        "colab_type": "text"
      },
      "source": [
        "<a href=\"https://colab.research.google.com/github/najmaabdi99/GROUP-2-ASSIGNMENT/blob/main/Phase_1_Code_Challenge_Notebook.ipynb\" target=\"_parent\"><img src=\"https://colab.research.google.com/assets/colab-badge.svg\" alt=\"Open In Colab\"/></a>"
      ]
    },
    {
      "cell_type": "markdown",
      "metadata": {
        "deletable": false,
        "editable": false,
        "nbgrader": {
          "cell_type": "markdown",
          "checksum": "29e3f9ed342e3a98e47148b257d1d38b",
          "grade": false,
          "grade_id": "cell-1dc8c072d516f820",
          "locked": true,
          "schema_version": 3,
          "solution": false,
          "task": false
        },
        "id": "SJTuDRhDy5cS"
      },
      "source": [
        "# Phase 1 Code Challenge\n",
        "This code challenge is designed to test your understanding of the Phase 1 material. It covers:\n",
        "\n",
        "- Pandas\n",
        "- Data Visualization\n",
        "- Exploring Statistical Data\n",
        "- Python Data Structures\n",
        "\n",
        "*Read the instructions carefully.* Your code will need to meet detailed specifications to pass automated tests.\n",
        "\n",
        "## Code Tests\n",
        "\n",
        "We have provided some code tests for you to run to check that your work meets the item specifications. Passing these tests does not necessarily mean that you have gotten the item correct - there are additional hidden tests. However, if any of the tests do not pass, this tells you that your code is incorrect and needs changes to meet the specification. To determine what the issue is, read the comments in the code test cells, the error message you receive, and the item instructions."
      ]
    },
    {
      "cell_type": "markdown",
      "metadata": {
        "deletable": false,
        "editable": false,
        "nbgrader": {
          "cell_type": "markdown",
          "checksum": "70716b95dc5bccd49998cd5a7d3da369",
          "grade": false,
          "grade_id": "cell-9cdee0770b4e45d9",
          "locked": true,
          "schema_version": 3,
          "solution": false,
          "task": false
        },
        "id": "sMm9kkXGy5cX"
      },
      "source": [
        "---\n",
        "## Part 1: Pandas [Suggested Time: 15 minutes]\n",
        "---\n",
        "In this part, you will preprocess a dataset from the video game [FIFA19](https://www.kaggle.com/karangadiya/fifa19), which contains data from the players' real-life careers."
      ]
    },
    {
      "cell_type": "code",
      "execution_count": 1,
      "metadata": {
        "deletable": false,
        "editable": false,
        "nbgrader": {
          "cell_type": "code",
          "checksum": "53062e369476dd6485a0154dbd9b76fb",
          "grade": false,
          "grade_id": "cell-6b5542e3f39ef221",
          "locked": true,
          "schema_version": 3,
          "solution": false,
          "task": false
        },
        "id": "zlt5nQPcy5cY"
      },
      "outputs": [],
      "source": [
        "# Run this cell\n",
        "\n",
        "import pandas as pd\n",
        "import numpy as np\n",
        "from numbers import Number\n",
        "import warnings\n",
        "warnings.filterwarnings('ignore')"
      ]
    },
    {
      "cell_type": "markdown",
      "metadata": {
        "deletable": false,
        "editable": false,
        "nbgrader": {
          "cell_type": "markdown",
          "checksum": "141011a44dac97e104325c7e76e90c86",
          "grade": false,
          "grade_id": "cell-b9b25e040991b1e6",
          "locked": true,
          "schema_version": 3,
          "solution": false,
          "task": false
        },
        "id": "awWHpBGky5cZ"
      },
      "source": [
        "### 1.1) Read `fifa.csv` into a pandas DataFrame named `df`\n",
        "\n",
        "Use pandas to create a new DataFrame, called `df`, containing the data from the dataset in the file `fifa.csv` in the folder containing this notebook.\n",
        "\n",
        "Hint: Use the string `'./fifa.csv'` as the file reference."
      ]
    },
    {
      "cell_type": "markdown",
      "metadata": {
        "deletable": false,
        "editable": false,
        "nbgrader": {
          "cell_type": "markdown",
          "checksum": "bb6f838080f5124f5dfc3a02bac8034a",
          "grade": false,
          "grade_id": "cell-18fbca9dcea2ebbd",
          "locked": true,
          "schema_version": 3,
          "solution": false,
          "task": false
        },
        "scrolled": true,
        "id": "3DVKHDxxy5ca"
      },
      "source": [
        "**Starter Code**\n",
        "\n",
        "    df ="
      ]
    },
    {
      "cell_type": "code",
      "execution_count": 20,
      "metadata": {
        "deletable": false,
        "nbgrader": {
          "cell_type": "code",
          "checksum": "3ab40d0eaf6bef222b99d7c6ec9937e6",
          "grade": false,
          "grade_id": "cell-cf9f259ed8f4b909",
          "locked": false,
          "schema_version": 3,
          "solution": true,
          "task": false
        },
        "colab": {
          "base_uri": "https://localhost:8080/",
          "height": 359
        },
        "id": "-aAa2rmjy5ca",
        "outputId": "a6529700-f42f-4a41-8bb6-d4752f0adae0"
      },
      "outputs": [
        {
          "output_type": "execute_result",
          "data": {
            "text/plain": [
              "       ID               Name  Age  \\\n",
              "0  158023           L. Messi   31   \n",
              "1   20801  Cristiano Ronaldo   33   \n",
              "2  190871          Neymar Jr   26   \n",
              "3  193080             De Gea   27   \n",
              "4  192985       K. De Bruyne   27   \n",
              "\n",
              "                                            Photo Nationality  \\\n",
              "0  https://cdn.sofifa.org/players/4/19/158023.png   Argentina   \n",
              "1   https://cdn.sofifa.org/players/4/19/20801.png    Portugal   \n",
              "2  https://cdn.sofifa.org/players/4/19/190871.png      Brazil   \n",
              "3  https://cdn.sofifa.org/players/4/19/193080.png       Spain   \n",
              "4  https://cdn.sofifa.org/players/4/19/192985.png     Belgium   \n",
              "\n",
              "                                  Flag  Overall  Potential  \\\n",
              "0  https://cdn.sofifa.org/flags/52.png       94         94   \n",
              "1  https://cdn.sofifa.org/flags/38.png       94         94   \n",
              "2  https://cdn.sofifa.org/flags/54.png       92         93   \n",
              "3  https://cdn.sofifa.org/flags/45.png       91         93   \n",
              "4   https://cdn.sofifa.org/flags/7.png       91         92   \n",
              "\n",
              "                  Club                                     Club Logo  ...  \\\n",
              "0         FC Barcelona  https://cdn.sofifa.org/teams/2/light/241.png  ...   \n",
              "1             Juventus   https://cdn.sofifa.org/teams/2/light/45.png  ...   \n",
              "2  Paris Saint-Germain   https://cdn.sofifa.org/teams/2/light/73.png  ...   \n",
              "3    Manchester United   https://cdn.sofifa.org/teams/2/light/11.png  ...   \n",
              "4      Manchester City   https://cdn.sofifa.org/teams/2/light/10.png  ...   \n",
              "\n",
              "  Composure Marking  StandingTackle SlidingTackle  GKDiving  GKHandling  \\\n",
              "0      96.0    33.0            28.0          26.0       6.0        11.0   \n",
              "1      95.0    28.0            31.0          23.0       7.0        11.0   \n",
              "2      94.0    27.0            24.0          33.0       9.0         9.0   \n",
              "3      68.0    15.0            21.0          13.0      90.0        85.0   \n",
              "4      88.0    68.0            58.0          51.0      15.0        13.0   \n",
              "\n",
              "   GKKicking GKPositioning GKReflexes Release Clause  \n",
              "0       15.0          14.0        8.0       226500.0  \n",
              "1       15.0          14.0       11.0       127100.0  \n",
              "2       15.0          15.0       11.0       228100.0  \n",
              "3       87.0          88.0       94.0       138600.0  \n",
              "4        5.0          10.0       13.0       196400.0  \n",
              "\n",
              "[5 rows x 88 columns]"
            ],
            "text/html": [
              "\n",
              "  <div id=\"df-adce3899-e77e-4e4c-8b69-e426e99da311\" class=\"colab-df-container\">\n",
              "    <div>\n",
              "<style scoped>\n",
              "    .dataframe tbody tr th:only-of-type {\n",
              "        vertical-align: middle;\n",
              "    }\n",
              "\n",
              "    .dataframe tbody tr th {\n",
              "        vertical-align: top;\n",
              "    }\n",
              "\n",
              "    .dataframe thead th {\n",
              "        text-align: right;\n",
              "    }\n",
              "</style>\n",
              "<table border=\"1\" class=\"dataframe\">\n",
              "  <thead>\n",
              "    <tr style=\"text-align: right;\">\n",
              "      <th></th>\n",
              "      <th>ID</th>\n",
              "      <th>Name</th>\n",
              "      <th>Age</th>\n",
              "      <th>Photo</th>\n",
              "      <th>Nationality</th>\n",
              "      <th>Flag</th>\n",
              "      <th>Overall</th>\n",
              "      <th>Potential</th>\n",
              "      <th>Club</th>\n",
              "      <th>Club Logo</th>\n",
              "      <th>...</th>\n",
              "      <th>Composure</th>\n",
              "      <th>Marking</th>\n",
              "      <th>StandingTackle</th>\n",
              "      <th>SlidingTackle</th>\n",
              "      <th>GKDiving</th>\n",
              "      <th>GKHandling</th>\n",
              "      <th>GKKicking</th>\n",
              "      <th>GKPositioning</th>\n",
              "      <th>GKReflexes</th>\n",
              "      <th>Release Clause</th>\n",
              "    </tr>\n",
              "  </thead>\n",
              "  <tbody>\n",
              "    <tr>\n",
              "      <th>0</th>\n",
              "      <td>158023</td>\n",
              "      <td>L. Messi</td>\n",
              "      <td>31</td>\n",
              "      <td>https://cdn.sofifa.org/players/4/19/158023.png</td>\n",
              "      <td>Argentina</td>\n",
              "      <td>https://cdn.sofifa.org/flags/52.png</td>\n",
              "      <td>94</td>\n",
              "      <td>94</td>\n",
              "      <td>FC Barcelona</td>\n",
              "      <td>https://cdn.sofifa.org/teams/2/light/241.png</td>\n",
              "      <td>...</td>\n",
              "      <td>96.0</td>\n",
              "      <td>33.0</td>\n",
              "      <td>28.0</td>\n",
              "      <td>26.0</td>\n",
              "      <td>6.0</td>\n",
              "      <td>11.0</td>\n",
              "      <td>15.0</td>\n",
              "      <td>14.0</td>\n",
              "      <td>8.0</td>\n",
              "      <td>226500.0</td>\n",
              "    </tr>\n",
              "    <tr>\n",
              "      <th>1</th>\n",
              "      <td>20801</td>\n",
              "      <td>Cristiano Ronaldo</td>\n",
              "      <td>33</td>\n",
              "      <td>https://cdn.sofifa.org/players/4/19/20801.png</td>\n",
              "      <td>Portugal</td>\n",
              "      <td>https://cdn.sofifa.org/flags/38.png</td>\n",
              "      <td>94</td>\n",
              "      <td>94</td>\n",
              "      <td>Juventus</td>\n",
              "      <td>https://cdn.sofifa.org/teams/2/light/45.png</td>\n",
              "      <td>...</td>\n",
              "      <td>95.0</td>\n",
              "      <td>28.0</td>\n",
              "      <td>31.0</td>\n",
              "      <td>23.0</td>\n",
              "      <td>7.0</td>\n",
              "      <td>11.0</td>\n",
              "      <td>15.0</td>\n",
              "      <td>14.0</td>\n",
              "      <td>11.0</td>\n",
              "      <td>127100.0</td>\n",
              "    </tr>\n",
              "    <tr>\n",
              "      <th>2</th>\n",
              "      <td>190871</td>\n",
              "      <td>Neymar Jr</td>\n",
              "      <td>26</td>\n",
              "      <td>https://cdn.sofifa.org/players/4/19/190871.png</td>\n",
              "      <td>Brazil</td>\n",
              "      <td>https://cdn.sofifa.org/flags/54.png</td>\n",
              "      <td>92</td>\n",
              "      <td>93</td>\n",
              "      <td>Paris Saint-Germain</td>\n",
              "      <td>https://cdn.sofifa.org/teams/2/light/73.png</td>\n",
              "      <td>...</td>\n",
              "      <td>94.0</td>\n",
              "      <td>27.0</td>\n",
              "      <td>24.0</td>\n",
              "      <td>33.0</td>\n",
              "      <td>9.0</td>\n",
              "      <td>9.0</td>\n",
              "      <td>15.0</td>\n",
              "      <td>15.0</td>\n",
              "      <td>11.0</td>\n",
              "      <td>228100.0</td>\n",
              "    </tr>\n",
              "    <tr>\n",
              "      <th>3</th>\n",
              "      <td>193080</td>\n",
              "      <td>De Gea</td>\n",
              "      <td>27</td>\n",
              "      <td>https://cdn.sofifa.org/players/4/19/193080.png</td>\n",
              "      <td>Spain</td>\n",
              "      <td>https://cdn.sofifa.org/flags/45.png</td>\n",
              "      <td>91</td>\n",
              "      <td>93</td>\n",
              "      <td>Manchester United</td>\n",
              "      <td>https://cdn.sofifa.org/teams/2/light/11.png</td>\n",
              "      <td>...</td>\n",
              "      <td>68.0</td>\n",
              "      <td>15.0</td>\n",
              "      <td>21.0</td>\n",
              "      <td>13.0</td>\n",
              "      <td>90.0</td>\n",
              "      <td>85.0</td>\n",
              "      <td>87.0</td>\n",
              "      <td>88.0</td>\n",
              "      <td>94.0</td>\n",
              "      <td>138600.0</td>\n",
              "    </tr>\n",
              "    <tr>\n",
              "      <th>4</th>\n",
              "      <td>192985</td>\n",
              "      <td>K. De Bruyne</td>\n",
              "      <td>27</td>\n",
              "      <td>https://cdn.sofifa.org/players/4/19/192985.png</td>\n",
              "      <td>Belgium</td>\n",
              "      <td>https://cdn.sofifa.org/flags/7.png</td>\n",
              "      <td>91</td>\n",
              "      <td>92</td>\n",
              "      <td>Manchester City</td>\n",
              "      <td>https://cdn.sofifa.org/teams/2/light/10.png</td>\n",
              "      <td>...</td>\n",
              "      <td>88.0</td>\n",
              "      <td>68.0</td>\n",
              "      <td>58.0</td>\n",
              "      <td>51.0</td>\n",
              "      <td>15.0</td>\n",
              "      <td>13.0</td>\n",
              "      <td>5.0</td>\n",
              "      <td>10.0</td>\n",
              "      <td>13.0</td>\n",
              "      <td>196400.0</td>\n",
              "    </tr>\n",
              "  </tbody>\n",
              "</table>\n",
              "<p>5 rows × 88 columns</p>\n",
              "</div>\n",
              "    <div class=\"colab-df-buttons\">\n",
              "\n",
              "  <div class=\"colab-df-container\">\n",
              "    <button class=\"colab-df-convert\" onclick=\"convertToInteractive('df-adce3899-e77e-4e4c-8b69-e426e99da311')\"\n",
              "            title=\"Convert this dataframe to an interactive table.\"\n",
              "            style=\"display:none;\">\n",
              "\n",
              "  <svg xmlns=\"http://www.w3.org/2000/svg\" height=\"24px\" viewBox=\"0 -960 960 960\">\n",
              "    <path d=\"M120-120v-720h720v720H120Zm60-500h600v-160H180v160Zm220 220h160v-160H400v160Zm0 220h160v-160H400v160ZM180-400h160v-160H180v160Zm440 0h160v-160H620v160ZM180-180h160v-160H180v160Zm440 0h160v-160H620v160Z\"/>\n",
              "  </svg>\n",
              "    </button>\n",
              "\n",
              "  <style>\n",
              "    .colab-df-container {\n",
              "      display:flex;\n",
              "      gap: 12px;\n",
              "    }\n",
              "\n",
              "    .colab-df-convert {\n",
              "      background-color: #E8F0FE;\n",
              "      border: none;\n",
              "      border-radius: 50%;\n",
              "      cursor: pointer;\n",
              "      display: none;\n",
              "      fill: #1967D2;\n",
              "      height: 32px;\n",
              "      padding: 0 0 0 0;\n",
              "      width: 32px;\n",
              "    }\n",
              "\n",
              "    .colab-df-convert:hover {\n",
              "      background-color: #E2EBFA;\n",
              "      box-shadow: 0px 1px 2px rgba(60, 64, 67, 0.3), 0px 1px 3px 1px rgba(60, 64, 67, 0.15);\n",
              "      fill: #174EA6;\n",
              "    }\n",
              "\n",
              "    .colab-df-buttons div {\n",
              "      margin-bottom: 4px;\n",
              "    }\n",
              "\n",
              "    [theme=dark] .colab-df-convert {\n",
              "      background-color: #3B4455;\n",
              "      fill: #D2E3FC;\n",
              "    }\n",
              "\n",
              "    [theme=dark] .colab-df-convert:hover {\n",
              "      background-color: #434B5C;\n",
              "      box-shadow: 0px 1px 3px 1px rgba(0, 0, 0, 0.15);\n",
              "      filter: drop-shadow(0px 1px 2px rgba(0, 0, 0, 0.3));\n",
              "      fill: #FFFFFF;\n",
              "    }\n",
              "  </style>\n",
              "\n",
              "    <script>\n",
              "      const buttonEl =\n",
              "        document.querySelector('#df-adce3899-e77e-4e4c-8b69-e426e99da311 button.colab-df-convert');\n",
              "      buttonEl.style.display =\n",
              "        google.colab.kernel.accessAllowed ? 'block' : 'none';\n",
              "\n",
              "      async function convertToInteractive(key) {\n",
              "        const element = document.querySelector('#df-adce3899-e77e-4e4c-8b69-e426e99da311');\n",
              "        const dataTable =\n",
              "          await google.colab.kernel.invokeFunction('convertToInteractive',\n",
              "                                                    [key], {});\n",
              "        if (!dataTable) return;\n",
              "\n",
              "        const docLinkHtml = 'Like what you see? Visit the ' +\n",
              "          '<a target=\"_blank\" href=https://colab.research.google.com/notebooks/data_table.ipynb>data table notebook</a>'\n",
              "          + ' to learn more about interactive tables.';\n",
              "        element.innerHTML = '';\n",
              "        dataTable['output_type'] = 'display_data';\n",
              "        await google.colab.output.renderOutput(dataTable, element);\n",
              "        const docLink = document.createElement('div');\n",
              "        docLink.innerHTML = docLinkHtml;\n",
              "        element.appendChild(docLink);\n",
              "      }\n",
              "    </script>\n",
              "  </div>\n",
              "\n",
              "\n",
              "<div id=\"df-891549e3-c1e7-433c-9b06-f775a0ed88da\">\n",
              "  <button class=\"colab-df-quickchart\" onclick=\"quickchart('df-891549e3-c1e7-433c-9b06-f775a0ed88da')\"\n",
              "            title=\"Suggest charts\"\n",
              "            style=\"display:none;\">\n",
              "\n",
              "<svg xmlns=\"http://www.w3.org/2000/svg\" height=\"24px\"viewBox=\"0 0 24 24\"\n",
              "     width=\"24px\">\n",
              "    <g>\n",
              "        <path d=\"M19 3H5c-1.1 0-2 .9-2 2v14c0 1.1.9 2 2 2h14c1.1 0 2-.9 2-2V5c0-1.1-.9-2-2-2zM9 17H7v-7h2v7zm4 0h-2V7h2v10zm4 0h-2v-4h2v4z\"/>\n",
              "    </g>\n",
              "</svg>\n",
              "  </button>\n",
              "\n",
              "<style>\n",
              "  .colab-df-quickchart {\n",
              "      --bg-color: #E8F0FE;\n",
              "      --fill-color: #1967D2;\n",
              "      --hover-bg-color: #E2EBFA;\n",
              "      --hover-fill-color: #174EA6;\n",
              "      --disabled-fill-color: #AAA;\n",
              "      --disabled-bg-color: #DDD;\n",
              "  }\n",
              "\n",
              "  [theme=dark] .colab-df-quickchart {\n",
              "      --bg-color: #3B4455;\n",
              "      --fill-color: #D2E3FC;\n",
              "      --hover-bg-color: #434B5C;\n",
              "      --hover-fill-color: #FFFFFF;\n",
              "      --disabled-bg-color: #3B4455;\n",
              "      --disabled-fill-color: #666;\n",
              "  }\n",
              "\n",
              "  .colab-df-quickchart {\n",
              "    background-color: var(--bg-color);\n",
              "    border: none;\n",
              "    border-radius: 50%;\n",
              "    cursor: pointer;\n",
              "    display: none;\n",
              "    fill: var(--fill-color);\n",
              "    height: 32px;\n",
              "    padding: 0;\n",
              "    width: 32px;\n",
              "  }\n",
              "\n",
              "  .colab-df-quickchart:hover {\n",
              "    background-color: var(--hover-bg-color);\n",
              "    box-shadow: 0 1px 2px rgba(60, 64, 67, 0.3), 0 1px 3px 1px rgba(60, 64, 67, 0.15);\n",
              "    fill: var(--button-hover-fill-color);\n",
              "  }\n",
              "\n",
              "  .colab-df-quickchart-complete:disabled,\n",
              "  .colab-df-quickchart-complete:disabled:hover {\n",
              "    background-color: var(--disabled-bg-color);\n",
              "    fill: var(--disabled-fill-color);\n",
              "    box-shadow: none;\n",
              "  }\n",
              "\n",
              "  .colab-df-spinner {\n",
              "    border: 2px solid var(--fill-color);\n",
              "    border-color: transparent;\n",
              "    border-bottom-color: var(--fill-color);\n",
              "    animation:\n",
              "      spin 1s steps(1) infinite;\n",
              "  }\n",
              "\n",
              "  @keyframes spin {\n",
              "    0% {\n",
              "      border-color: transparent;\n",
              "      border-bottom-color: var(--fill-color);\n",
              "      border-left-color: var(--fill-color);\n",
              "    }\n",
              "    20% {\n",
              "      border-color: transparent;\n",
              "      border-left-color: var(--fill-color);\n",
              "      border-top-color: var(--fill-color);\n",
              "    }\n",
              "    30% {\n",
              "      border-color: transparent;\n",
              "      border-left-color: var(--fill-color);\n",
              "      border-top-color: var(--fill-color);\n",
              "      border-right-color: var(--fill-color);\n",
              "    }\n",
              "    40% {\n",
              "      border-color: transparent;\n",
              "      border-right-color: var(--fill-color);\n",
              "      border-top-color: var(--fill-color);\n",
              "    }\n",
              "    60% {\n",
              "      border-color: transparent;\n",
              "      border-right-color: var(--fill-color);\n",
              "    }\n",
              "    80% {\n",
              "      border-color: transparent;\n",
              "      border-right-color: var(--fill-color);\n",
              "      border-bottom-color: var(--fill-color);\n",
              "    }\n",
              "    90% {\n",
              "      border-color: transparent;\n",
              "      border-bottom-color: var(--fill-color);\n",
              "    }\n",
              "  }\n",
              "</style>\n",
              "\n",
              "  <script>\n",
              "    async function quickchart(key) {\n",
              "      const quickchartButtonEl =\n",
              "        document.querySelector('#' + key + ' button');\n",
              "      quickchartButtonEl.disabled = true;  // To prevent multiple clicks.\n",
              "      quickchartButtonEl.classList.add('colab-df-spinner');\n",
              "      try {\n",
              "        const charts = await google.colab.kernel.invokeFunction(\n",
              "            'suggestCharts', [key], {});\n",
              "      } catch (error) {\n",
              "        console.error('Error during call to suggestCharts:', error);\n",
              "      }\n",
              "      quickchartButtonEl.classList.remove('colab-df-spinner');\n",
              "      quickchartButtonEl.classList.add('colab-df-quickchart-complete');\n",
              "    }\n",
              "    (() => {\n",
              "      let quickchartButtonEl =\n",
              "        document.querySelector('#df-891549e3-c1e7-433c-9b06-f775a0ed88da button');\n",
              "      quickchartButtonEl.style.display =\n",
              "        google.colab.kernel.accessAllowed ? 'block' : 'none';\n",
              "    })();\n",
              "  </script>\n",
              "</div>\n",
              "    </div>\n",
              "  </div>\n"
            ]
          },
          "metadata": {},
          "execution_count": 20
        }
      ],
      "source": [
        "# YOUR CODE HERE\n",
        "f = r\"fifa.csv\"\n",
        "df = pd.read_csv(f)\n",
        "df.head()"
      ]
    },
    {
      "cell_type": "code",
      "execution_count": 3,
      "metadata": {
        "deletable": false,
        "editable": false,
        "nbgrader": {
          "cell_type": "code",
          "checksum": "cacece4903e2605ddade6ac7f59673d1",
          "grade": true,
          "grade_id": "cell-40c6c91273593f1f",
          "locked": true,
          "points": 1,
          "schema_version": 3,
          "solution": false,
          "task": false
        },
        "id": "uv5H3Dv4y5ca"
      },
      "outputs": [],
      "source": [
        "# This test confirms that you have created a DataFrame named df\n",
        "\n",
        "assert type(df) == pd.DataFrame\n"
      ]
    },
    {
      "cell_type": "markdown",
      "metadata": {
        "deletable": false,
        "editable": false,
        "nbgrader": {
          "cell_type": "markdown",
          "checksum": "0b9b553dfd5630ed9866435ee9a9fced",
          "grade": false,
          "grade_id": "cell-42ef866849a4d833",
          "locked": true,
          "schema_version": 3,
          "solution": false,
          "task": false
        },
        "id": "QlDaz9Hby5cb"
      },
      "source": [
        "### 1.2) Convert the `'Release Clause'` values from Euros to dollars\n",
        "\n",
        "The `'Release Clause'` variable contains prices denominated in Euros. Use the exchange rate `1 Euro = 1.2 Dollars` to convert the prices to dollars."
      ]
    },
    {
      "cell_type": "code",
      "execution_count": 21,
      "metadata": {
        "deletable": false,
        "nbgrader": {
          "cell_type": "code",
          "checksum": "c5534ca8a0de72206f176b1243d1e113",
          "grade": false,
          "grade_id": "cell-7dea27dfb0840749",
          "locked": false,
          "schema_version": 3,
          "solution": true,
          "task": false
        },
        "colab": {
          "base_uri": "https://localhost:8080/",
          "height": 359
        },
        "id": "W3XS4sdxy5cb",
        "outputId": "14f941fa-4ece-47aa-95d6-1b0333aeb3be"
      },
      "outputs": [
        {
          "output_type": "execute_result",
          "data": {
            "text/plain": [
              "       ID               Name  Age  \\\n",
              "0  158023           L. Messi   31   \n",
              "1   20801  Cristiano Ronaldo   33   \n",
              "2  190871          Neymar Jr   26   \n",
              "3  193080             De Gea   27   \n",
              "4  192985       K. De Bruyne   27   \n",
              "\n",
              "                                            Photo Nationality  \\\n",
              "0  https://cdn.sofifa.org/players/4/19/158023.png   Argentina   \n",
              "1   https://cdn.sofifa.org/players/4/19/20801.png    Portugal   \n",
              "2  https://cdn.sofifa.org/players/4/19/190871.png      Brazil   \n",
              "3  https://cdn.sofifa.org/players/4/19/193080.png       Spain   \n",
              "4  https://cdn.sofifa.org/players/4/19/192985.png     Belgium   \n",
              "\n",
              "                                  Flag  Overall  Potential  \\\n",
              "0  https://cdn.sofifa.org/flags/52.png       94         94   \n",
              "1  https://cdn.sofifa.org/flags/38.png       94         94   \n",
              "2  https://cdn.sofifa.org/flags/54.png       92         93   \n",
              "3  https://cdn.sofifa.org/flags/45.png       91         93   \n",
              "4   https://cdn.sofifa.org/flags/7.png       91         92   \n",
              "\n",
              "                  Club                                     Club Logo  ...  \\\n",
              "0         FC Barcelona  https://cdn.sofifa.org/teams/2/light/241.png  ...   \n",
              "1             Juventus   https://cdn.sofifa.org/teams/2/light/45.png  ...   \n",
              "2  Paris Saint-Germain   https://cdn.sofifa.org/teams/2/light/73.png  ...   \n",
              "3    Manchester United   https://cdn.sofifa.org/teams/2/light/11.png  ...   \n",
              "4      Manchester City   https://cdn.sofifa.org/teams/2/light/10.png  ...   \n",
              "\n",
              "  Composure Marking  StandingTackle SlidingTackle  GKDiving  GKHandling  \\\n",
              "0      96.0    33.0            28.0          26.0       6.0        11.0   \n",
              "1      95.0    28.0            31.0          23.0       7.0        11.0   \n",
              "2      94.0    27.0            24.0          33.0       9.0         9.0   \n",
              "3      68.0    15.0            21.0          13.0      90.0        85.0   \n",
              "4      88.0    68.0            58.0          51.0      15.0        13.0   \n",
              "\n",
              "   GKKicking GKPositioning GKReflexes Release Clause  \n",
              "0       15.0          14.0        8.0       271800.0  \n",
              "1       15.0          14.0       11.0       152520.0  \n",
              "2       15.0          15.0       11.0       273720.0  \n",
              "3       87.0          88.0       94.0       166320.0  \n",
              "4        5.0          10.0       13.0       235680.0  \n",
              "\n",
              "[5 rows x 88 columns]"
            ],
            "text/html": [
              "\n",
              "  <div id=\"df-4343c60d-3f03-4655-95b0-75c1e8a5ced0\" class=\"colab-df-container\">\n",
              "    <div>\n",
              "<style scoped>\n",
              "    .dataframe tbody tr th:only-of-type {\n",
              "        vertical-align: middle;\n",
              "    }\n",
              "\n",
              "    .dataframe tbody tr th {\n",
              "        vertical-align: top;\n",
              "    }\n",
              "\n",
              "    .dataframe thead th {\n",
              "        text-align: right;\n",
              "    }\n",
              "</style>\n",
              "<table border=\"1\" class=\"dataframe\">\n",
              "  <thead>\n",
              "    <tr style=\"text-align: right;\">\n",
              "      <th></th>\n",
              "      <th>ID</th>\n",
              "      <th>Name</th>\n",
              "      <th>Age</th>\n",
              "      <th>Photo</th>\n",
              "      <th>Nationality</th>\n",
              "      <th>Flag</th>\n",
              "      <th>Overall</th>\n",
              "      <th>Potential</th>\n",
              "      <th>Club</th>\n",
              "      <th>Club Logo</th>\n",
              "      <th>...</th>\n",
              "      <th>Composure</th>\n",
              "      <th>Marking</th>\n",
              "      <th>StandingTackle</th>\n",
              "      <th>SlidingTackle</th>\n",
              "      <th>GKDiving</th>\n",
              "      <th>GKHandling</th>\n",
              "      <th>GKKicking</th>\n",
              "      <th>GKPositioning</th>\n",
              "      <th>GKReflexes</th>\n",
              "      <th>Release Clause</th>\n",
              "    </tr>\n",
              "  </thead>\n",
              "  <tbody>\n",
              "    <tr>\n",
              "      <th>0</th>\n",
              "      <td>158023</td>\n",
              "      <td>L. Messi</td>\n",
              "      <td>31</td>\n",
              "      <td>https://cdn.sofifa.org/players/4/19/158023.png</td>\n",
              "      <td>Argentina</td>\n",
              "      <td>https://cdn.sofifa.org/flags/52.png</td>\n",
              "      <td>94</td>\n",
              "      <td>94</td>\n",
              "      <td>FC Barcelona</td>\n",
              "      <td>https://cdn.sofifa.org/teams/2/light/241.png</td>\n",
              "      <td>...</td>\n",
              "      <td>96.0</td>\n",
              "      <td>33.0</td>\n",
              "      <td>28.0</td>\n",
              "      <td>26.0</td>\n",
              "      <td>6.0</td>\n",
              "      <td>11.0</td>\n",
              "      <td>15.0</td>\n",
              "      <td>14.0</td>\n",
              "      <td>8.0</td>\n",
              "      <td>271800.0</td>\n",
              "    </tr>\n",
              "    <tr>\n",
              "      <th>1</th>\n",
              "      <td>20801</td>\n",
              "      <td>Cristiano Ronaldo</td>\n",
              "      <td>33</td>\n",
              "      <td>https://cdn.sofifa.org/players/4/19/20801.png</td>\n",
              "      <td>Portugal</td>\n",
              "      <td>https://cdn.sofifa.org/flags/38.png</td>\n",
              "      <td>94</td>\n",
              "      <td>94</td>\n",
              "      <td>Juventus</td>\n",
              "      <td>https://cdn.sofifa.org/teams/2/light/45.png</td>\n",
              "      <td>...</td>\n",
              "      <td>95.0</td>\n",
              "      <td>28.0</td>\n",
              "      <td>31.0</td>\n",
              "      <td>23.0</td>\n",
              "      <td>7.0</td>\n",
              "      <td>11.0</td>\n",
              "      <td>15.0</td>\n",
              "      <td>14.0</td>\n",
              "      <td>11.0</td>\n",
              "      <td>152520.0</td>\n",
              "    </tr>\n",
              "    <tr>\n",
              "      <th>2</th>\n",
              "      <td>190871</td>\n",
              "      <td>Neymar Jr</td>\n",
              "      <td>26</td>\n",
              "      <td>https://cdn.sofifa.org/players/4/19/190871.png</td>\n",
              "      <td>Brazil</td>\n",
              "      <td>https://cdn.sofifa.org/flags/54.png</td>\n",
              "      <td>92</td>\n",
              "      <td>93</td>\n",
              "      <td>Paris Saint-Germain</td>\n",
              "      <td>https://cdn.sofifa.org/teams/2/light/73.png</td>\n",
              "      <td>...</td>\n",
              "      <td>94.0</td>\n",
              "      <td>27.0</td>\n",
              "      <td>24.0</td>\n",
              "      <td>33.0</td>\n",
              "      <td>9.0</td>\n",
              "      <td>9.0</td>\n",
              "      <td>15.0</td>\n",
              "      <td>15.0</td>\n",
              "      <td>11.0</td>\n",
              "      <td>273720.0</td>\n",
              "    </tr>\n",
              "    <tr>\n",
              "      <th>3</th>\n",
              "      <td>193080</td>\n",
              "      <td>De Gea</td>\n",
              "      <td>27</td>\n",
              "      <td>https://cdn.sofifa.org/players/4/19/193080.png</td>\n",
              "      <td>Spain</td>\n",
              "      <td>https://cdn.sofifa.org/flags/45.png</td>\n",
              "      <td>91</td>\n",
              "      <td>93</td>\n",
              "      <td>Manchester United</td>\n",
              "      <td>https://cdn.sofifa.org/teams/2/light/11.png</td>\n",
              "      <td>...</td>\n",
              "      <td>68.0</td>\n",
              "      <td>15.0</td>\n",
              "      <td>21.0</td>\n",
              "      <td>13.0</td>\n",
              "      <td>90.0</td>\n",
              "      <td>85.0</td>\n",
              "      <td>87.0</td>\n",
              "      <td>88.0</td>\n",
              "      <td>94.0</td>\n",
              "      <td>166320.0</td>\n",
              "    </tr>\n",
              "    <tr>\n",
              "      <th>4</th>\n",
              "      <td>192985</td>\n",
              "      <td>K. De Bruyne</td>\n",
              "      <td>27</td>\n",
              "      <td>https://cdn.sofifa.org/players/4/19/192985.png</td>\n",
              "      <td>Belgium</td>\n",
              "      <td>https://cdn.sofifa.org/flags/7.png</td>\n",
              "      <td>91</td>\n",
              "      <td>92</td>\n",
              "      <td>Manchester City</td>\n",
              "      <td>https://cdn.sofifa.org/teams/2/light/10.png</td>\n",
              "      <td>...</td>\n",
              "      <td>88.0</td>\n",
              "      <td>68.0</td>\n",
              "      <td>58.0</td>\n",
              "      <td>51.0</td>\n",
              "      <td>15.0</td>\n",
              "      <td>13.0</td>\n",
              "      <td>5.0</td>\n",
              "      <td>10.0</td>\n",
              "      <td>13.0</td>\n",
              "      <td>235680.0</td>\n",
              "    </tr>\n",
              "  </tbody>\n",
              "</table>\n",
              "<p>5 rows × 88 columns</p>\n",
              "</div>\n",
              "    <div class=\"colab-df-buttons\">\n",
              "\n",
              "  <div class=\"colab-df-container\">\n",
              "    <button class=\"colab-df-convert\" onclick=\"convertToInteractive('df-4343c60d-3f03-4655-95b0-75c1e8a5ced0')\"\n",
              "            title=\"Convert this dataframe to an interactive table.\"\n",
              "            style=\"display:none;\">\n",
              "\n",
              "  <svg xmlns=\"http://www.w3.org/2000/svg\" height=\"24px\" viewBox=\"0 -960 960 960\">\n",
              "    <path d=\"M120-120v-720h720v720H120Zm60-500h600v-160H180v160Zm220 220h160v-160H400v160Zm0 220h160v-160H400v160ZM180-400h160v-160H180v160Zm440 0h160v-160H620v160ZM180-180h160v-160H180v160Zm440 0h160v-160H620v160Z\"/>\n",
              "  </svg>\n",
              "    </button>\n",
              "\n",
              "  <style>\n",
              "    .colab-df-container {\n",
              "      display:flex;\n",
              "      gap: 12px;\n",
              "    }\n",
              "\n",
              "    .colab-df-convert {\n",
              "      background-color: #E8F0FE;\n",
              "      border: none;\n",
              "      border-radius: 50%;\n",
              "      cursor: pointer;\n",
              "      display: none;\n",
              "      fill: #1967D2;\n",
              "      height: 32px;\n",
              "      padding: 0 0 0 0;\n",
              "      width: 32px;\n",
              "    }\n",
              "\n",
              "    .colab-df-convert:hover {\n",
              "      background-color: #E2EBFA;\n",
              "      box-shadow: 0px 1px 2px rgba(60, 64, 67, 0.3), 0px 1px 3px 1px rgba(60, 64, 67, 0.15);\n",
              "      fill: #174EA6;\n",
              "    }\n",
              "\n",
              "    .colab-df-buttons div {\n",
              "      margin-bottom: 4px;\n",
              "    }\n",
              "\n",
              "    [theme=dark] .colab-df-convert {\n",
              "      background-color: #3B4455;\n",
              "      fill: #D2E3FC;\n",
              "    }\n",
              "\n",
              "    [theme=dark] .colab-df-convert:hover {\n",
              "      background-color: #434B5C;\n",
              "      box-shadow: 0px 1px 3px 1px rgba(0, 0, 0, 0.15);\n",
              "      filter: drop-shadow(0px 1px 2px rgba(0, 0, 0, 0.3));\n",
              "      fill: #FFFFFF;\n",
              "    }\n",
              "  </style>\n",
              "\n",
              "    <script>\n",
              "      const buttonEl =\n",
              "        document.querySelector('#df-4343c60d-3f03-4655-95b0-75c1e8a5ced0 button.colab-df-convert');\n",
              "      buttonEl.style.display =\n",
              "        google.colab.kernel.accessAllowed ? 'block' : 'none';\n",
              "\n",
              "      async function convertToInteractive(key) {\n",
              "        const element = document.querySelector('#df-4343c60d-3f03-4655-95b0-75c1e8a5ced0');\n",
              "        const dataTable =\n",
              "          await google.colab.kernel.invokeFunction('convertToInteractive',\n",
              "                                                    [key], {});\n",
              "        if (!dataTable) return;\n",
              "\n",
              "        const docLinkHtml = 'Like what you see? Visit the ' +\n",
              "          '<a target=\"_blank\" href=https://colab.research.google.com/notebooks/data_table.ipynb>data table notebook</a>'\n",
              "          + ' to learn more about interactive tables.';\n",
              "        element.innerHTML = '';\n",
              "        dataTable['output_type'] = 'display_data';\n",
              "        await google.colab.output.renderOutput(dataTable, element);\n",
              "        const docLink = document.createElement('div');\n",
              "        docLink.innerHTML = docLinkHtml;\n",
              "        element.appendChild(docLink);\n",
              "      }\n",
              "    </script>\n",
              "  </div>\n",
              "\n",
              "\n",
              "<div id=\"df-5dd0e9ca-7990-4c0a-84d8-4c8016b4957b\">\n",
              "  <button class=\"colab-df-quickchart\" onclick=\"quickchart('df-5dd0e9ca-7990-4c0a-84d8-4c8016b4957b')\"\n",
              "            title=\"Suggest charts\"\n",
              "            style=\"display:none;\">\n",
              "\n",
              "<svg xmlns=\"http://www.w3.org/2000/svg\" height=\"24px\"viewBox=\"0 0 24 24\"\n",
              "     width=\"24px\">\n",
              "    <g>\n",
              "        <path d=\"M19 3H5c-1.1 0-2 .9-2 2v14c0 1.1.9 2 2 2h14c1.1 0 2-.9 2-2V5c0-1.1-.9-2-2-2zM9 17H7v-7h2v7zm4 0h-2V7h2v10zm4 0h-2v-4h2v4z\"/>\n",
              "    </g>\n",
              "</svg>\n",
              "  </button>\n",
              "\n",
              "<style>\n",
              "  .colab-df-quickchart {\n",
              "      --bg-color: #E8F0FE;\n",
              "      --fill-color: #1967D2;\n",
              "      --hover-bg-color: #E2EBFA;\n",
              "      --hover-fill-color: #174EA6;\n",
              "      --disabled-fill-color: #AAA;\n",
              "      --disabled-bg-color: #DDD;\n",
              "  }\n",
              "\n",
              "  [theme=dark] .colab-df-quickchart {\n",
              "      --bg-color: #3B4455;\n",
              "      --fill-color: #D2E3FC;\n",
              "      --hover-bg-color: #434B5C;\n",
              "      --hover-fill-color: #FFFFFF;\n",
              "      --disabled-bg-color: #3B4455;\n",
              "      --disabled-fill-color: #666;\n",
              "  }\n",
              "\n",
              "  .colab-df-quickchart {\n",
              "    background-color: var(--bg-color);\n",
              "    border: none;\n",
              "    border-radius: 50%;\n",
              "    cursor: pointer;\n",
              "    display: none;\n",
              "    fill: var(--fill-color);\n",
              "    height: 32px;\n",
              "    padding: 0;\n",
              "    width: 32px;\n",
              "  }\n",
              "\n",
              "  .colab-df-quickchart:hover {\n",
              "    background-color: var(--hover-bg-color);\n",
              "    box-shadow: 0 1px 2px rgba(60, 64, 67, 0.3), 0 1px 3px 1px rgba(60, 64, 67, 0.15);\n",
              "    fill: var(--button-hover-fill-color);\n",
              "  }\n",
              "\n",
              "  .colab-df-quickchart-complete:disabled,\n",
              "  .colab-df-quickchart-complete:disabled:hover {\n",
              "    background-color: var(--disabled-bg-color);\n",
              "    fill: var(--disabled-fill-color);\n",
              "    box-shadow: none;\n",
              "  }\n",
              "\n",
              "  .colab-df-spinner {\n",
              "    border: 2px solid var(--fill-color);\n",
              "    border-color: transparent;\n",
              "    border-bottom-color: var(--fill-color);\n",
              "    animation:\n",
              "      spin 1s steps(1) infinite;\n",
              "  }\n",
              "\n",
              "  @keyframes spin {\n",
              "    0% {\n",
              "      border-color: transparent;\n",
              "      border-bottom-color: var(--fill-color);\n",
              "      border-left-color: var(--fill-color);\n",
              "    }\n",
              "    20% {\n",
              "      border-color: transparent;\n",
              "      border-left-color: var(--fill-color);\n",
              "      border-top-color: var(--fill-color);\n",
              "    }\n",
              "    30% {\n",
              "      border-color: transparent;\n",
              "      border-left-color: var(--fill-color);\n",
              "      border-top-color: var(--fill-color);\n",
              "      border-right-color: var(--fill-color);\n",
              "    }\n",
              "    40% {\n",
              "      border-color: transparent;\n",
              "      border-right-color: var(--fill-color);\n",
              "      border-top-color: var(--fill-color);\n",
              "    }\n",
              "    60% {\n",
              "      border-color: transparent;\n",
              "      border-right-color: var(--fill-color);\n",
              "    }\n",
              "    80% {\n",
              "      border-color: transparent;\n",
              "      border-right-color: var(--fill-color);\n",
              "      border-bottom-color: var(--fill-color);\n",
              "    }\n",
              "    90% {\n",
              "      border-color: transparent;\n",
              "      border-bottom-color: var(--fill-color);\n",
              "    }\n",
              "  }\n",
              "</style>\n",
              "\n",
              "  <script>\n",
              "    async function quickchart(key) {\n",
              "      const quickchartButtonEl =\n",
              "        document.querySelector('#' + key + ' button');\n",
              "      quickchartButtonEl.disabled = true;  // To prevent multiple clicks.\n",
              "      quickchartButtonEl.classList.add('colab-df-spinner');\n",
              "      try {\n",
              "        const charts = await google.colab.kernel.invokeFunction(\n",
              "            'suggestCharts', [key], {});\n",
              "      } catch (error) {\n",
              "        console.error('Error during call to suggestCharts:', error);\n",
              "      }\n",
              "      quickchartButtonEl.classList.remove('colab-df-spinner');\n",
              "      quickchartButtonEl.classList.add('colab-df-quickchart-complete');\n",
              "    }\n",
              "    (() => {\n",
              "      let quickchartButtonEl =\n",
              "        document.querySelector('#df-5dd0e9ca-7990-4c0a-84d8-4c8016b4957b button');\n",
              "      quickchartButtonEl.style.display =\n",
              "        google.colab.kernel.accessAllowed ? 'block' : 'none';\n",
              "    })();\n",
              "  </script>\n",
              "</div>\n",
              "    </div>\n",
              "  </div>\n"
            ]
          },
          "metadata": {},
          "execution_count": 21
        }
      ],
      "source": [
        "# YOUR CODE HERE\n",
        "#Define the exchange rate\n",
        "exchange_rate_euro_to_dollar = 1.2\n",
        "#convert release clause values from Euro to Dollar\n",
        "df['Release Clause'] = df['Release Clause']* 1.2\n",
        "df.head()\n",
        "\n"
      ]
    },
    {
      "cell_type": "markdown",
      "source": [],
      "metadata": {
        "id": "NZlIwiIOiCZp"
      }
    },
    {
      "cell_type": "code",
      "execution_count": null,
      "metadata": {
        "deletable": false,
        "editable": false,
        "nbgrader": {
          "cell_type": "code",
          "checksum": "a24d00d465ef74b4cd69bfdeb27f6a66",
          "grade": true,
          "grade_id": "cell-722ee65f73aaf88b",
          "locked": true,
          "points": 1,
          "schema_version": 3,
          "solution": false,
          "task": false
        },
        "id": "Nowy4yc1y5cb"
      },
      "outputs": [],
      "source": [
        "# Ignore this cell\n"
      ]
    },
    {
      "cell_type": "markdown",
      "metadata": {
        "deletable": false,
        "editable": false,
        "nbgrader": {
          "cell_type": "markdown",
          "checksum": "e3482602ba928f85714f1e479f24dab5",
          "grade": false,
          "grade_id": "cell-e9a1540ffff85098",
          "locked": true,
          "schema_version": 3,
          "solution": false,
          "task": false
        },
        "id": "cv4Z7iW9y5cc"
      },
      "source": [
        "### 1.3) Drop rows from `df` with missing values for the `'Release Clause'` feature.\n",
        "    \n",
        "Make sure that `df` remains the name of the dataset with the dropped rows."
      ]
    },
    {
      "cell_type": "code",
      "execution_count": 24,
      "metadata": {
        "deletable": false,
        "nbgrader": {
          "cell_type": "code",
          "checksum": "07d3910049c82d0ccb1cee469696e53f",
          "grade": false,
          "grade_id": "cell-389eaeac18624fad",
          "locked": false,
          "schema_version": 3,
          "solution": true,
          "task": false
        },
        "colab": {
          "base_uri": "https://localhost:8080/"
        },
        "id": "43tD-mlGy5cc",
        "outputId": "f56ee5d1-78fa-495d-fb30-295c2739e38c"
      },
      "outputs": [
        {
          "output_type": "stream",
          "name": "stdout",
          "text": [
            "<class 'pandas.core.frame.DataFrame'>\n",
            "Int64Index: 16643 entries, 0 to 18206\n",
            "Data columns (total 88 columns):\n",
            " #   Column                    Non-Null Count  Dtype  \n",
            "---  ------                    --------------  -----  \n",
            " 0   ID                        16643 non-null  int64  \n",
            " 1   Name                      16643 non-null  object \n",
            " 2   Age                       16643 non-null  int64  \n",
            " 3   Photo                     16643 non-null  object \n",
            " 4   Nationality               16643 non-null  object \n",
            " 5   Flag                      16643 non-null  object \n",
            " 6   Overall                   16643 non-null  int64  \n",
            " 7   Potential                 16643 non-null  int64  \n",
            " 8   Club                      16643 non-null  object \n",
            " 9   Club Logo                 16643 non-null  object \n",
            " 10  Value                     16643 non-null  object \n",
            " 11  Wage                      16643 non-null  object \n",
            " 12  Special                   16643 non-null  int64  \n",
            " 13  Preferred Foot            16643 non-null  object \n",
            " 14  International Reputation  16643 non-null  float64\n",
            " 15  Weak Foot                 16643 non-null  float64\n",
            " 16  Skill Moves               16643 non-null  float64\n",
            " 17  Work Rate                 16643 non-null  object \n",
            " 18  Body Type                 16643 non-null  object \n",
            " 19  Real Face                 16643 non-null  object \n",
            " 20  Position                  16643 non-null  object \n",
            " 21  Jersey Number             16643 non-null  float64\n",
            " 22  Joined                    16643 non-null  object \n",
            " 23  Loaned From               0 non-null      object \n",
            " 24  Contract Valid Until      16643 non-null  object \n",
            " 25  Height                    16643 non-null  object \n",
            " 26  Weight                    16643 non-null  object \n",
            " 27  LS                        14743 non-null  object \n",
            " 28  ST                        14743 non-null  object \n",
            " 29  RS                        14743 non-null  object \n",
            " 30  LW                        14743 non-null  object \n",
            " 31  LF                        14743 non-null  object \n",
            " 32  CF                        14743 non-null  object \n",
            " 33  RF                        14743 non-null  object \n",
            " 34  RW                        14743 non-null  object \n",
            " 35  LAM                       14743 non-null  object \n",
            " 36  CAM                       14743 non-null  object \n",
            " 37  RAM                       14743 non-null  object \n",
            " 38  LM                        14743 non-null  object \n",
            " 39  LCM                       14743 non-null  object \n",
            " 40  CM                        14743 non-null  object \n",
            " 41  RCM                       14743 non-null  object \n",
            " 42  RM                        14743 non-null  object \n",
            " 43  LWB                       14743 non-null  object \n",
            " 44  LDM                       14743 non-null  object \n",
            " 45  CDM                       14743 non-null  object \n",
            " 46  RDM                       14743 non-null  object \n",
            " 47  RWB                       14743 non-null  object \n",
            " 48  LB                        14743 non-null  object \n",
            " 49  LCB                       14743 non-null  object \n",
            " 50  CB                        14743 non-null  object \n",
            " 51  RCB                       14743 non-null  object \n",
            " 52  RB                        14743 non-null  object \n",
            " 53  Crossing                  16643 non-null  float64\n",
            " 54  Finishing                 16643 non-null  float64\n",
            " 55  HeadingAccuracy           16643 non-null  float64\n",
            " 56  ShortPassing              16643 non-null  float64\n",
            " 57  Volleys                   16643 non-null  float64\n",
            " 58  Dribbling                 16643 non-null  float64\n",
            " 59  Curve                     16643 non-null  float64\n",
            " 60  FKAccuracy                16643 non-null  float64\n",
            " 61  LongPassing               16643 non-null  float64\n",
            " 62  BallControl               16643 non-null  float64\n",
            " 63  Acceleration              16643 non-null  float64\n",
            " 64  SprintSpeed               16643 non-null  float64\n",
            " 65  Agility                   16643 non-null  float64\n",
            " 66  Reactions                 16643 non-null  float64\n",
            " 67  Balance                   16643 non-null  float64\n",
            " 68  ShotPower                 16643 non-null  float64\n",
            " 69  Jumping                   16643 non-null  float64\n",
            " 70  Stamina                   16643 non-null  float64\n",
            " 71  Strength                  16643 non-null  float64\n",
            " 72  LongShots                 16643 non-null  float64\n",
            " 73  Aggression                16643 non-null  float64\n",
            " 74  Interceptions             16643 non-null  float64\n",
            " 75  Positioning               16643 non-null  float64\n",
            " 76  Vision                    16643 non-null  float64\n",
            " 77  Penalties                 16643 non-null  float64\n",
            " 78  Composure                 16643 non-null  float64\n",
            " 79  Marking                   16643 non-null  float64\n",
            " 80  StandingTackle            16643 non-null  float64\n",
            " 81  SlidingTackle             16643 non-null  float64\n",
            " 82  GKDiving                  16643 non-null  float64\n",
            " 83  GKHandling                16643 non-null  float64\n",
            " 84  GKKicking                 16643 non-null  float64\n",
            " 85  GKPositioning             16643 non-null  float64\n",
            " 86  GKReflexes                16643 non-null  float64\n",
            " 87  Release Clause            16643 non-null  float64\n",
            "dtypes: float64(39), int64(5), object(44)\n",
            "memory usage: 11.3+ MB\n"
          ]
        }
      ],
      "source": [
        "df1 = df.copy()\n",
        "df1.dropna(subset=['Release Clause'], inplace=True)\n",
        "df.info()\n",
        "\n",
        "\n",
        "\n"
      ]
    },
    {
      "cell_type": "code",
      "execution_count": 25,
      "metadata": {
        "deletable": false,
        "editable": false,
        "nbgrader": {
          "cell_type": "code",
          "checksum": "5b833f8f9550a85640325fb8fbde98b3",
          "grade": true,
          "grade_id": "cell-d9fc548551ee3f7e",
          "locked": true,
          "points": 1,
          "schema_version": 3,
          "solution": false,
          "task": false
        },
        "id": "q7d83DfBy5cc"
      },
      "outputs": [],
      "source": [
        "# This test confirms that your dataset has the correct number of observations after dropping\n",
        "\n",
        "assert df['Release Clause'].shape[0] == 16643\n"
      ]
    },
    {
      "cell_type": "markdown",
      "metadata": {
        "deletable": false,
        "editable": false,
        "nbgrader": {
          "cell_type": "markdown",
          "checksum": "f55cb851c3aeac1e96b9c91bcf87080c",
          "grade": false,
          "grade_id": "cell-be6ad3929cc953e5",
          "locked": true,
          "schema_version": 3,
          "solution": false,
          "task": false
        },
        "id": "pmXnISVKy5cd"
      },
      "source": [
        "### 1.4) Create a list `top_10_countries` containing the names of the 10 countries with the most players (using the `'Nationality'` column).\n",
        "\n",
        "Hint: Your answer should include England, Germany, Spain, France, and Argentina"
      ]
    },
    {
      "cell_type": "markdown",
      "metadata": {
        "deletable": false,
        "editable": false,
        "nbgrader": {
          "cell_type": "markdown",
          "checksum": "2371eeae60572044f0e60301bcb5ed65",
          "grade": false,
          "grade_id": "cell-a33121d22f5d8535",
          "locked": true,
          "schema_version": 3,
          "solution": false,
          "task": false
        },
        "id": "hfIYWFdUy5cd"
      },
      "source": [
        "**Starter Code**\n",
        "\n",
        "    top_10_countries ="
      ]
    },
    {
      "cell_type": "code",
      "execution_count": 29,
      "metadata": {
        "deletable": false,
        "nbgrader": {
          "cell_type": "code",
          "checksum": "41182dd319c608fbc790c2959b04d84c",
          "grade": false,
          "grade_id": "cell-f2a7bdcc98878531",
          "locked": false,
          "schema_version": 3,
          "solution": true,
          "task": false
        },
        "colab": {
          "base_uri": "https://localhost:8080/"
        },
        "id": "zjEslof3y5cd",
        "outputId": "efe7792e-0b55-4af2-b5df-d87eec9a1ee2"
      },
      "outputs": [
        {
          "output_type": "execute_result",
          "data": {
            "text/plain": [
              "['England',\n",
              " 'Germany',\n",
              " 'Spain',\n",
              " 'France',\n",
              " 'Argentina',\n",
              " 'Brazil',\n",
              " 'Italy',\n",
              " 'Colombia',\n",
              " 'Japan',\n",
              " 'Netherlands']"
            ]
          },
          "metadata": {},
          "execution_count": 29
        }
      ],
      "source": [
        "# YOUR CODE HERE\n",
        "#count the number of players for each country\n",
        "country_counts = df['Nationality'].value_counts()\n",
        "top_10_countries = country_counts.head(10).index.tolist()\n",
        "top_10_countries"
      ]
    },
    {
      "cell_type": "code",
      "execution_count": 30,
      "metadata": {
        "deletable": false,
        "editable": false,
        "nbgrader": {
          "cell_type": "code",
          "checksum": "32fd183a55844499cf48eec9eaaea810",
          "grade": true,
          "grade_id": "cell-a5bfa46eb38629b9",
          "locked": true,
          "points": 1,
          "schema_version": 3,
          "solution": false,
          "task": false
        },
        "id": "gnuOSn8Xy5cd"
      },
      "outputs": [],
      "source": [
        "# This test confirms that you have created a list named top_10_countries\n",
        "\n",
        "assert type(top_10_countries) == list\n",
        "\n",
        "# This test confirms that top_10_countries contains England, Germany, Spain, France, and Argentina\n",
        "\n",
        "assert set(['England', 'Germany', 'Spain', 'France', 'Argentina']).issubset(set(top_10_countries))\n"
      ]
    },
    {
      "cell_type": "markdown",
      "metadata": {
        "deletable": false,
        "editable": false,
        "nbgrader": {
          "cell_type": "markdown",
          "checksum": "76b3f140712b8dc910795c6ac6b9d90e",
          "grade": false,
          "grade_id": "cell-f9d5841f356a5a8a",
          "locked": true,
          "schema_version": 3,
          "solution": false,
          "task": false
        },
        "id": "9qxOdQAKy5cd"
      },
      "source": [
        "## Part 2: Data Visualization [Suggested Time: 20 minutes]\n",
        "This part uses the same FIFA dataset, and asks you to plot data using `matplotlib`."
      ]
    },
    {
      "cell_type": "code",
      "execution_count": 31,
      "metadata": {
        "deletable": false,
        "editable": false,
        "nbgrader": {
          "cell_type": "code",
          "checksum": "205091c21e0df074b1fa7435ec334b38",
          "grade": false,
          "grade_id": "cell-0b27595ca9348a59",
          "locked": true,
          "schema_version": 3,
          "solution": false,
          "task": false
        },
        "id": "CgbSnb4sy5cd"
      },
      "outputs": [],
      "source": [
        "# Run this cell\n",
        "\n",
        "import matplotlib\n",
        "import matplotlib.pyplot as plt\n",
        "\n",
        "%matplotlib inline"
      ]
    },
    {
      "cell_type": "markdown",
      "metadata": {
        "deletable": false,
        "editable": false,
        "nbgrader": {
          "cell_type": "markdown",
          "checksum": "298c2b199e8e4ab8f9e9540c4eb7f1de",
          "grade": false,
          "grade_id": "cell-112f61d031df8fca",
          "locked": true,
          "schema_version": 3,
          "solution": false,
          "task": false
        },
        "id": "IhCmG5Eay5ce"
      },
      "source": [
        "### 2.1) Create a matplotlib figure `player_count_figure` containing a labeled bar chart with the number of players from England, Germany, Spain, France, and Argentina\n",
        "\n",
        "Use the strings provided below (`bar_chart_title`, `bar_chart_count_label`, and `bar_chart_series_label`) to title and label your bar chart.\n",
        "\n",
        "Hint: These are the countries with the top 5 numbers of players, so you may be able to adapt some of the code you used for question 1.4. If you were unable to complete 1.4, use the following values:\n",
        "\n",
        "```\n",
        "Country Name  | Num Players\n",
        "============  | ===========\n",
        "England       | 1000\n",
        "Germany       | 900\n",
        "Spain         | 800\n",
        "France        | 700\n",
        "Argentina     | 600\n",
        "```"
      ]
    },
    {
      "cell_type": "markdown",
      "metadata": {
        "deletable": false,
        "editable": false,
        "nbgrader": {
          "cell_type": "markdown",
          "checksum": "67a111287e72181ca0cf457884d08b86",
          "grade": false,
          "grade_id": "cell-3b75802577579ca2",
          "locked": true,
          "schema_version": 3,
          "solution": false,
          "task": false
        },
        "id": "kx435tx-y5ce"
      },
      "source": [
        "**Starter Code**\n",
        "\n",
        "    player_count_figure, ax = plt.subplots(figsize=(10, 6))"
      ]
    },
    {
      "cell_type": "code",
      "execution_count": 33,
      "metadata": {
        "deletable": false,
        "nbgrader": {
          "cell_type": "code",
          "checksum": "f11df4e2eeeba43ec2328af96b36734f",
          "grade": false,
          "grade_id": "cell-248dd5aab2bb2f87",
          "locked": false,
          "schema_version": 3,
          "solution": true,
          "task": false
        },
        "colab": {
          "base_uri": "https://localhost:8080/",
          "height": 564
        },
        "id": "fFXdu7Smy5ce",
        "outputId": "50c136a5-f8b0-48d8-ae78-111e98c78818"
      },
      "outputs": [
        {
          "output_type": "display_data",
          "data": {
            "text/plain": [
              "<Figure size 1000x600 with 1 Axes>"
            ],
            "image/png": "[encoded data removed]"
          },
          "metadata": {}
        }
      ],
      "source": [
        "bar_chart_countries = ['England', 'Germany', 'Spain', 'France', 'Argentina']\n",
        "\n",
        "bar_chart_title = '5 Countries with the Most Players'\n",
        "bar_chart_count_label = 'Number of Players'\n",
        "bar_chart_series_label = 'Nationality'\n",
        "\n",
        "#include only players from these countries\n",
        "bar_chart_countries = ['England', 'Germany', 'Spain', 'France', 'Argentina']\n",
        "new_data = df[df['Nationality'].isin(bar_chart_countries)]\n",
        "\n",
        "#count the number of players from each country\n",
        "country_counts = new_data['Nationality'].value_counts()\n",
        "\n",
        "# create a new figure\n",
        "player_count_figure, ax = plt.subplots(figsize=(10, 6))\n",
        "#create a bar chart\n",
        "plt.bar(country_counts.index, country_counts.values)\n",
        "plt.title(bar_chart_title)\n",
        "plt.xlabel(bar_chart_series_label)\n",
        "plt.ylabel(bar_chart_count_label)\n",
        "plt.show()\n"
      ]
    },
    {
      "cell_type": "code",
      "execution_count": 34,
      "metadata": {
        "deletable": false,
        "editable": false,
        "nbgrader": {
          "cell_type": "code",
          "checksum": "bc3f336499f7a7cbdbbc9b159e94613d",
          "grade": true,
          "grade_id": "cell-128f21e6161d6c70",
          "locked": true,
          "points": 1,
          "schema_version": 3,
          "solution": false,
          "task": false
        },
        "id": "sNXiRWfiy5ce"
      },
      "outputs": [],
      "source": [
        "# This test confirms that you have created a figure named player_count_figure\n",
        "\n",
        "assert type(player_count_figure) == plt.Figure\n",
        "\n",
        "# This test confirms that the figure contains exactly one axis\n",
        "\n",
        "assert len(player_count_figure.axes) == 1\n"
      ]
    },
    {
      "cell_type": "code",
      "execution_count": 35,
      "metadata": {
        "deletable": false,
        "editable": false,
        "nbgrader": {
          "cell_type": "code",
          "checksum": "77e83483f6888120e16ff7399606009f",
          "grade": true,
          "grade_id": "cell-dec8d410badba377",
          "locked": true,
          "points": 1,
          "schema_version": 3,
          "solution": false,
          "task": false
        },
        "id": "5YQ6-iUey5ce"
      },
      "outputs": [],
      "source": [
        "# These tests confirm that the figure has a title and axis labels\n",
        "\n",
        "assert player_count_figure.axes[0].get_title() != ''\n",
        "assert player_count_figure.axes[0].get_ylabel() != ''\n",
        "assert player_count_figure.axes[0].get_xlabel() != ''\n"
      ]
    },
    {
      "cell_type": "markdown",
      "metadata": {
        "deletable": false,
        "editable": false,
        "nbgrader": {
          "cell_type": "markdown",
          "checksum": "f8e98bdb4a0b091546dc3399ce37a76b",
          "grade": false,
          "grade_id": "cell-70190139727d20a2",
          "locked": true,
          "schema_version": 3,
          "solution": false,
          "task": false
        },
        "id": "Yxp7aHEXy5ce"
      },
      "source": [
        "### 2.2) Create a matplotlib figure `tackle_figure` containing a labeled scatter plot visualizing the relationship between `StandingTackle` (on X axis) and `SlidingTackle` (on Y axis)\n",
        "\n",
        "Use the strings provided below (`scatter_plot_title`, `standing_tackle_label`, and `sliding_tackle_label`) to title and label your scatter plot."
      ]
    },
    {
      "cell_type": "markdown",
      "metadata": {
        "deletable": false,
        "editable": false,
        "nbgrader": {
          "cell_type": "markdown",
          "checksum": "d4d11c0a1bfb7f03ddffc44685a87f44",
          "grade": false,
          "grade_id": "cell-a40b547bb6df762b",
          "locked": true,
          "schema_version": 3,
          "solution": false,
          "task": false
        },
        "id": "lBTKLGEYy5ce"
      },
      "source": [
        "**Starter Code**\n",
        "\n",
        "    tackle_figure, ax = plt.subplots(figsize=(10, 6))"
      ]
    },
    {
      "cell_type": "code",
      "execution_count": 39,
      "metadata": {
        "deletable": false,
        "nbgrader": {
          "cell_type": "code",
          "checksum": "8bb54c55fcddc9287c7ba6a854d397d2",
          "grade": false,
          "grade_id": "cell-064cad4a79f53237",
          "locked": false,
          "schema_version": 3,
          "solution": true,
          "task": false
        },
        "colab": {
          "base_uri": "https://localhost:8080/",
          "height": 931
        },
        "id": "7kCJEMRxy5ce",
        "outputId": "de0dd690-4b21-437e-e891-4838e023dee5"
      },
      "outputs": [
        {
          "output_type": "error",
          "ename": "ValueError",
          "evalue": "The truth value of a Series is ambiguous. Use a.empty, a.bool(), a.item(), a.any() or a.all().",
          "traceback": [
            "\u001b[0;31m---------------------------------------------------------------------------\u001b[0m",
            "\u001b[0;31mValueError\u001b[0m                                Traceback (most recent call last)",
            "\u001b[0;32m<ipython-input-39-24a1724a5972>\u001b[0m in \u001b[0;36m<cell line: 16>\u001b[0;34m()\u001b[0m\n\u001b[1;32m     14\u001b[0m \u001b[0;34m\u001b[0m\u001b[0m\n\u001b[1;32m     15\u001b[0m \u001b[0mplt\u001b[0m\u001b[0;34m.\u001b[0m\u001b[0mtitle\u001b[0m\u001b[0;34m(\u001b[0m\u001b[0mscatter_plot_title\u001b[0m\u001b[0;34m)\u001b[0m\u001b[0;34m\u001b[0m\u001b[0;34m\u001b[0m\u001b[0m\n\u001b[0;32m---> 16\u001b[0;31m \u001b[0mplt\u001b[0m\u001b[0;34m.\u001b[0m\u001b[0mxlabel\u001b[0m\u001b[0;34m(\u001b[0m\u001b[0mstanding_tackle_data\u001b[0m\u001b[0;34m)\u001b[0m\u001b[0;34m\u001b[0m\u001b[0;34m\u001b[0m\u001b[0m\n\u001b[0m\u001b[1;32m     17\u001b[0m \u001b[0mplt\u001b[0m\u001b[0;34m.\u001b[0m\u001b[0mylabel\u001b[0m\u001b[0;34m(\u001b[0m\u001b[0msliding_tackle_data\u001b[0m\u001b[0;34m)\u001b[0m\u001b[0;34m\u001b[0m\u001b[0;34m\u001b[0m\u001b[0m\n\u001b[1;32m     18\u001b[0m \u001b[0mplt\u001b[0m\u001b[0;34m.\u001b[0m\u001b[0mshow\u001b[0m\u001b[0;34m\u001b[0m\u001b[0;34m\u001b[0m\u001b[0m\n",
            "\u001b[0;32m/usr/local/lib/python3.10/dist-packages/matplotlib/pyplot.py\u001b[0m in \u001b[0;36mxlabel\u001b[0;34m(xlabel, fontdict, labelpad, loc, **kwargs)\u001b[0m\n\u001b[1;32m   3089\u001b[0m \u001b[0;34m@\u001b[0m\u001b[0m_copy_docstring_and_deprecators\u001b[0m\u001b[0;34m(\u001b[0m\u001b[0mAxes\u001b[0m\u001b[0;34m.\u001b[0m\u001b[0mset_xlabel\u001b[0m\u001b[0;34m)\u001b[0m\u001b[0;34m\u001b[0m\u001b[0;34m\u001b[0m\u001b[0m\n\u001b[1;32m   3090\u001b[0m \u001b[0;32mdef\u001b[0m \u001b[0mxlabel\u001b[0m\u001b[0;34m(\u001b[0m\u001b[0mxlabel\u001b[0m\u001b[0;34m,\u001b[0m \u001b[0mfontdict\u001b[0m\u001b[0;34m=\u001b[0m\u001b[0;32mNone\u001b[0m\u001b[0;34m,\u001b[0m \u001b[0mlabelpad\u001b[0m\u001b[0;34m=\u001b[0m\u001b[0;32mNone\u001b[0m\u001b[0;34m,\u001b[0m \u001b[0;34m*\u001b[0m\u001b[0;34m,\u001b[0m \u001b[0mloc\u001b[0m\u001b[0;34m=\u001b[0m\u001b[0;32mNone\u001b[0m\u001b[0;34m,\u001b[0m \u001b[0;34m**\u001b[0m\u001b[0mkwargs\u001b[0m\u001b[0;34m)\u001b[0m\u001b[0;34m:\u001b[0m\u001b[0;34m\u001b[0m\u001b[0;34m\u001b[0m\u001b[0m\n\u001b[0;32m-> 3091\u001b[0;31m     return gca().set_xlabel(\n\u001b[0m\u001b[1;32m   3092\u001b[0m         \u001b[0mxlabel\u001b[0m\u001b[0;34m,\u001b[0m \u001b[0mfontdict\u001b[0m\u001b[0;34m=\u001b[0m\u001b[0mfontdict\u001b[0m\u001b[0;34m,\u001b[0m \u001b[0mlabelpad\u001b[0m\u001b[0;34m=\u001b[0m\u001b[0mlabelpad\u001b[0m\u001b[0;34m,\u001b[0m \u001b[0mloc\u001b[0m\u001b[0;34m=\u001b[0m\u001b[0mloc\u001b[0m\u001b[0;34m,\u001b[0m\u001b[0;34m\u001b[0m\u001b[0;34m\u001b[0m\u001b[0m\n\u001b[1;32m   3093\u001b[0m         **kwargs)\n",
            "\u001b[0;32m/usr/local/lib/python3.10/dist-packages/matplotlib/axes/_base.py\u001b[0m in \u001b[0;36mset_xlabel\u001b[0;34m(self, xlabel, fontdict, labelpad, loc, **kwargs)\u001b[0m\n\u001b[1;32m   3468\u001b[0m             \u001b[0mkwargs\u001b[0m\u001b[0;34m.\u001b[0m\u001b[0mupdate\u001b[0m\u001b[0;34m(\u001b[0m\u001b[0mx\u001b[0m\u001b[0;34m=\u001b[0m\u001b[0mx\u001b[0m\u001b[0;34m,\u001b[0m \u001b[0mhorizontalalignment\u001b[0m\u001b[0;34m=\u001b[0m\u001b[0mloc\u001b[0m\u001b[0;34m)\u001b[0m\u001b[0;34m\u001b[0m\u001b[0;34m\u001b[0m\u001b[0m\n\u001b[1;32m   3469\u001b[0m \u001b[0;34m\u001b[0m\u001b[0m\n\u001b[0;32m-> 3470\u001b[0;31m         \u001b[0;32mreturn\u001b[0m \u001b[0mself\u001b[0m\u001b[0;34m.\u001b[0m\u001b[0mxaxis\u001b[0m\u001b[0;34m.\u001b[0m\u001b[0mset_label_text\u001b[0m\u001b[0;34m(\u001b[0m\u001b[0mxlabel\u001b[0m\u001b[0;34m,\u001b[0m \u001b[0mfontdict\u001b[0m\u001b[0;34m,\u001b[0m \u001b[0;34m**\u001b[0m\u001b[0mkwargs\u001b[0m\u001b[0;34m)\u001b[0m\u001b[0;34m\u001b[0m\u001b[0;34m\u001b[0m\u001b[0m\n\u001b[0m\u001b[1;32m   3471\u001b[0m \u001b[0;34m\u001b[0m\u001b[0m\n\u001b[1;32m   3472\u001b[0m     \u001b[0;32mdef\u001b[0m \u001b[0minvert_xaxis\u001b[0m\u001b[0;34m(\u001b[0m\u001b[0mself\u001b[0m\u001b[0;34m)\u001b[0m\u001b[0;34m:\u001b[0m\u001b[0;34m\u001b[0m\u001b[0;34m\u001b[0m\u001b[0m\n",
            "\u001b[0;32m/usr/local/lib/python3.10/dist-packages/matplotlib/axis.py\u001b[0m in \u001b[0;36mset_label_text\u001b[0;34m(self, label, fontdict, **kwargs)\u001b[0m\n\u001b[1;32m   1783\u001b[0m         \"\"\"\n\u001b[1;32m   1784\u001b[0m         \u001b[0mself\u001b[0m\u001b[0;34m.\u001b[0m\u001b[0misDefault_label\u001b[0m \u001b[0;34m=\u001b[0m \u001b[0;32mFalse\u001b[0m\u001b[0;34m\u001b[0m\u001b[0;34m\u001b[0m\u001b[0m\n\u001b[0;32m-> 1785\u001b[0;31m         \u001b[0mself\u001b[0m\u001b[0;34m.\u001b[0m\u001b[0mlabel\u001b[0m\u001b[0;34m.\u001b[0m\u001b[0mset_text\u001b[0m\u001b[0;34m(\u001b[0m\u001b[0mlabel\u001b[0m\u001b[0;34m)\u001b[0m\u001b[0;34m\u001b[0m\u001b[0;34m\u001b[0m\u001b[0m\n\u001b[0m\u001b[1;32m   1786\u001b[0m         \u001b[0;32mif\u001b[0m \u001b[0mfontdict\u001b[0m \u001b[0;32mis\u001b[0m \u001b[0;32mnot\u001b[0m \u001b[0;32mNone\u001b[0m\u001b[0;34m:\u001b[0m\u001b[0;34m\u001b[0m\u001b[0;34m\u001b[0m\u001b[0m\n\u001b[1;32m   1787\u001b[0m             \u001b[0mself\u001b[0m\u001b[0;34m.\u001b[0m\u001b[0mlabel\u001b[0m\u001b[0;34m.\u001b[0m\u001b[0mupdate\u001b[0m\u001b[0;34m(\u001b[0m\u001b[0mfontdict\u001b[0m\u001b[0;34m)\u001b[0m\u001b[0;34m\u001b[0m\u001b[0;34m\u001b[0m\u001b[0m\n",
            "\u001b[0;32m/usr/local/lib/python3.10/dist-packages/matplotlib/text.py\u001b[0m in \u001b[0;36mset_text\u001b[0;34m(self, s)\u001b[0m\n\u001b[1;32m   1277\u001b[0m         \u001b[0;32mif\u001b[0m \u001b[0ms\u001b[0m \u001b[0;32mis\u001b[0m \u001b[0;32mNone\u001b[0m\u001b[0;34m:\u001b[0m\u001b[0;34m\u001b[0m\u001b[0;34m\u001b[0m\u001b[0m\n\u001b[1;32m   1278\u001b[0m             \u001b[0ms\u001b[0m \u001b[0;34m=\u001b[0m \u001b[0;34m''\u001b[0m\u001b[0;34m\u001b[0m\u001b[0;34m\u001b[0m\u001b[0m\n\u001b[0;32m-> 1279\u001b[0;31m         \u001b[0;32mif\u001b[0m \u001b[0ms\u001b[0m \u001b[0;34m!=\u001b[0m \u001b[0mself\u001b[0m\u001b[0;34m.\u001b[0m\u001b[0m_text\u001b[0m\u001b[0;34m:\u001b[0m\u001b[0;34m\u001b[0m\u001b[0;34m\u001b[0m\u001b[0m\n\u001b[0m\u001b[1;32m   1280\u001b[0m             \u001b[0mself\u001b[0m\u001b[0;34m.\u001b[0m\u001b[0m_text\u001b[0m \u001b[0;34m=\u001b[0m \u001b[0mstr\u001b[0m\u001b[0;34m(\u001b[0m\u001b[0ms\u001b[0m\u001b[0;34m)\u001b[0m\u001b[0;34m\u001b[0m\u001b[0;34m\u001b[0m\u001b[0m\n\u001b[1;32m   1281\u001b[0m             \u001b[0mself\u001b[0m\u001b[0;34m.\u001b[0m\u001b[0mstale\u001b[0m \u001b[0;34m=\u001b[0m \u001b[0;32mTrue\u001b[0m\u001b[0;34m\u001b[0m\u001b[0;34m\u001b[0m\u001b[0m\n",
            "\u001b[0;32m/usr/local/lib/python3.10/dist-packages/pandas/core/generic.py\u001b[0m in \u001b[0;36m__nonzero__\u001b[0;34m(self)\u001b[0m\n\u001b[1;32m   1525\u001b[0m     \u001b[0;34m@\u001b[0m\u001b[0mfinal\u001b[0m\u001b[0;34m\u001b[0m\u001b[0;34m\u001b[0m\u001b[0m\n\u001b[1;32m   1526\u001b[0m     \u001b[0;32mdef\u001b[0m \u001b[0m__nonzero__\u001b[0m\u001b[0;34m(\u001b[0m\u001b[0mself\u001b[0m\u001b[0;34m)\u001b[0m \u001b[0;34m->\u001b[0m \u001b[0mNoReturn\u001b[0m\u001b[0;34m:\u001b[0m\u001b[0;34m\u001b[0m\u001b[0;34m\u001b[0m\u001b[0m\n\u001b[0;32m-> 1527\u001b[0;31m         raise ValueError(\n\u001b[0m\u001b[1;32m   1528\u001b[0m             \u001b[0;34mf\"The truth value of a {type(self).__name__} is ambiguous. \"\u001b[0m\u001b[0;34m\u001b[0m\u001b[0;34m\u001b[0m\u001b[0m\n\u001b[1;32m   1529\u001b[0m             \u001b[0;34m\"Use a.empty, a.bool(), a.item(), a.any() or a.all().\"\u001b[0m\u001b[0;34m\u001b[0m\u001b[0;34m\u001b[0m\u001b[0m\n",
            "\u001b[0;31mValueError\u001b[0m: The truth value of a Series is ambiguous. Use a.empty, a.bool(), a.item(), a.any() or a.all()."
          ]
        },
        {
          "output_type": "display_data",
          "data": {
            "text/plain": [
              "<Figure size 1000x600 with 1 Axes>"
            ],
            "image/png": "[encoded data removed]"
          },
          "metadata": {}
        }
      ],
      "source": [
        "scatter_plot_title = 'Relationship Between Standing Tackles and Sliding Tackles'\n",
        "standing_tackle_label = 'Standing Tackles'\n",
        "sliding_tackle_label = 'Sliding Tackles'\n",
        "\n",
        "# YOUR CODE HERE\n",
        "#Extract 'StandingTackle' and 'SlidingTackle' columns\n",
        "standing_tackle_data = df['StandingTackle']\n",
        "sliding_tackle_data = df['SlidingTackle']\n",
        "\n",
        "#Create a new figure\n",
        "tackle_figure, ax = plt.subplots(figsize=(10, 6))\n",
        "#create a scatter plot\n",
        "plt.scatter(standing_tackle_data,sliding_tackle_data)\n",
        "\n",
        "plt.title(scatter_plot_title)\n",
        "plt.xlabel(standing_tackle_data)\n",
        "plt.ylabel(sliding_tackle_data)\n",
        "plt.show"
      ]
    },
    {
      "cell_type": "code",
      "execution_count": 38,
      "metadata": {
        "deletable": false,
        "editable": false,
        "nbgrader": {
          "cell_type": "code",
          "checksum": "3ad292ade273a746843bde7ed222b686",
          "grade": true,
          "grade_id": "cell-7fc1fc24025435b8",
          "locked": true,
          "points": 1,
          "schema_version": 3,
          "solution": false,
          "task": false
        },
        "id": "S7sGHTzSy5ce"
      },
      "outputs": [],
      "source": [
        "# This test confirms that you have created a figure named tackle_figure\n",
        "\n",
        "assert type(tackle_figure) == plt.Figure\n",
        "\n",
        "# This test confirms that the figure contains exactly one axis\n",
        "\n",
        "assert len(tackle_figure.axes) == 1\n"
      ]
    },
    {
      "cell_type": "markdown",
      "metadata": {
        "deletable": false,
        "editable": false,
        "nbgrader": {
          "cell_type": "markdown",
          "checksum": "725d30f1f2ac7f418801ae4cd0390115",
          "grade": false,
          "grade_id": "cell-d6d6af6c94216981",
          "locked": true,
          "schema_version": 3,
          "solution": false,
          "task": false
        },
        "id": "8oKaY2Dny5ce"
      },
      "source": [
        "## Part 3: Exploring Statistical Data [Suggested Time: 20 minutes]\n",
        "This part does some exploratory analysis using the same FIFA dataset."
      ]
    },
    {
      "cell_type": "markdown",
      "metadata": {
        "deletable": false,
        "editable": false,
        "nbgrader": {
          "cell_type": "markdown",
          "checksum": "71a1bad69874002e5a0a59105dd4659f",
          "grade": false,
          "grade_id": "cell-1f6263e9b6ccbe48",
          "locked": true,
          "schema_version": 3,
          "solution": false,
          "task": false
        },
        "id": "xr7UcQq2y5cf"
      },
      "source": [
        "### 3.1) Create numeric variables `mean_age` and `median_age` containing the mean and median player ages (respectively)."
      ]
    },
    {
      "cell_type": "markdown",
      "metadata": {
        "deletable": false,
        "editable": false,
        "nbgrader": {
          "cell_type": "markdown",
          "checksum": "7f51a0b5efd899bc746ebaf19d77f387",
          "grade": false,
          "grade_id": "cell-8182a47b74d8308c",
          "locked": true,
          "schema_version": 3,
          "solution": false,
          "task": false
        },
        "id": "p4pGabrky5cf"
      },
      "source": [
        "**Starter Code**\n",
        "\n",
        "    mean_age =\n",
        "    median_age ="
      ]
    },
    {
      "cell_type": "code",
      "execution_count": 41,
      "metadata": {
        "deletable": false,
        "nbgrader": {
          "cell_type": "code",
          "checksum": "aee75eef2da987118de986c01a96bfb6",
          "grade": false,
          "grade_id": "cell-236fe375f6c9327c",
          "locked": false,
          "schema_version": 3,
          "solution": true,
          "task": false
        },
        "colab": {
          "base_uri": "https://localhost:8080/"
        },
        "id": "ENb8CRP_y5cf",
        "outputId": "60975605-e47b-4b28-d19c-28540c2deee9"
      },
      "outputs": [
        {
          "output_type": "stream",
          "name": "stdout",
          "text": [
            "Mean Age: 25.226221234152497\n",
            "Median Age: 25.0\n"
          ]
        }
      ],
      "source": [
        "# YOUR CODE HERE\n",
        "mean_age = df['Age'].mean()\n",
        "median_age = df['Age'].median()\n",
        "\n",
        "print(\"Mean Age:\", mean_age)\n",
        "print(\"Median Age:\", median_age)"
      ]
    },
    {
      "cell_type": "code",
      "execution_count": 42,
      "metadata": {
        "deletable": false,
        "editable": false,
        "nbgrader": {
          "cell_type": "code",
          "checksum": "c1c19d030e4900bdc3bbb5be4e4129ea",
          "grade": true,
          "grade_id": "cell-f71047bc869336cf",
          "locked": true,
          "points": 1,
          "schema_version": 3,
          "solution": false,
          "task": false
        },
        "id": "ndxBFkozy5cf"
      },
      "outputs": [],
      "source": [
        "# These tests confirm that you have created numeric variables named mean_age and median_age\n",
        "\n",
        "assert isinstance(mean_age, Number)\n",
        "assert isinstance(median_age, Number)\n"
      ]
    },
    {
      "cell_type": "markdown",
      "metadata": {
        "deletable": false,
        "editable": false,
        "nbgrader": {
          "cell_type": "markdown",
          "checksum": "7d2849bb5c6c467e1f9943b62451b29a",
          "grade": false,
          "grade_id": "cell-53c00926ddd0e281",
          "locked": true,
          "schema_version": 3,
          "solution": false,
          "task": false
        },
        "id": "2Q4ko70Oy5cf"
      },
      "source": [
        "### 3.2) Create numeric variables `oldest_argentine_name` and `oldest_argentine_age` containing the name and age (respectively) of the oldest player with Argentina nationality."
      ]
    },
    {
      "cell_type": "markdown",
      "metadata": {
        "deletable": false,
        "editable": false,
        "nbgrader": {
          "cell_type": "markdown",
          "checksum": "39b343f43bf2cd30af80d9768e05ae1d",
          "grade": false,
          "grade_id": "cell-8a8f465bb935cc1a",
          "locked": true,
          "schema_version": 3,
          "solution": false,
          "task": false
        },
        "id": "yHPB3cc1y5cf"
      },
      "source": [
        "**Starter Code**\n",
        "\n",
        "    oldest_argentine_name =\n",
        "    oldest_argentine_age ="
      ]
    },
    {
      "cell_type": "code",
      "execution_count": 50,
      "metadata": {
        "deletable": false,
        "nbgrader": {
          "cell_type": "code",
          "checksum": "dce1fee6a731ea4e7523d75597d79192",
          "grade": false,
          "grade_id": "cell-0c07eea0bdc0dfa4",
          "locked": false,
          "schema_version": 3,
          "solution": true,
          "task": false
        },
        "colab": {
          "base_uri": "https://localhost:8080/"
        },
        "id": "1N-DJH9Oy5cf",
        "outputId": "e9e235c7-d917-4f5d-c0b8-52e6d0e45a7d"
      },
      "outputs": [
        {
          "output_type": "stream",
          "name": "stdout",
          "text": [
            "C. Muñoz\n",
            "41\n"
          ]
        }
      ],
      "source": [
        "# filter to include only players with Argentine Nationality\n",
        "argentine_players = df[df['Nationality'] == 'Argentina']\n",
        "#find oldest player with argentine nationality\n",
        "oldest_argentine_player = argentine_players[argentine_players['Age'] == argentine_players['Age'].max()]\n",
        "#extract the name and age of the oldest Argentine player\n",
        "oldest_argentine_name = oldest_argentine_player['Name'].values[0]\n",
        "oldest_argentine_age = oldest_argentine_player['Age'].values[0]\n",
        "print(oldest_argentine_name)\n",
        "print(oldest_argentine_age)"
      ]
    },
    {
      "cell_type": "code",
      "execution_count": 46,
      "metadata": {
        "deletable": false,
        "editable": false,
        "nbgrader": {
          "cell_type": "code",
          "checksum": "a5c47c67beb6766b7ee20e79609633ee",
          "grade": true,
          "grade_id": "cell-469be575f68081da",
          "locked": true,
          "points": 1,
          "schema_version": 3,
          "solution": false,
          "task": false
        },
        "id": "ZuoZnRLay5cg"
      },
      "outputs": [],
      "source": [
        "# This test confirms that you have created a string variable named oldest_argentine_name\n",
        "\n",
        "assert type(oldest_argentine_name) == str\n",
        "\n",
        "# This test confirms that you have created a numeric variable named oldest_argentine_age\n",
        "\n",
        "assert isinstance(oldest_argentine_age, Number)\n"
      ]
    },
    {
      "cell_type": "markdown",
      "metadata": {
        "deletable": false,
        "editable": false,
        "nbgrader": {
          "cell_type": "markdown",
          "checksum": "e4dd527d90fc17199611fb6d879fd823",
          "grade": false,
          "grade_id": "cell-a7ce98ae6d482777",
          "locked": true,
          "schema_version": 3,
          "solution": false,
          "task": false
        },
        "id": "KSSAvIpjy5cg"
      },
      "source": [
        "## Part 4: Python Data Structures [Suggested Time: 20 min]\n",
        "\n",
        "Below is a dictionary `players` with information about soccer players. The keys are player names and the values are dictionaries containing each player's age, nationality, and a list of teams they have played for."
      ]
    },
    {
      "cell_type": "code",
      "execution_count": 48,
      "metadata": {
        "deletable": false,
        "editable": false,
        "nbgrader": {
          "cell_type": "code",
          "checksum": "74845850d3bd46f86a083f97cd6a2fbb",
          "grade": false,
          "grade_id": "cell-aeec0f73b4c2686e",
          "locked": true,
          "schema_version": 3,
          "solution": false,
          "task": false
        },
        "id": "oW3lup-zy5cg"
      },
      "outputs": [],
      "source": [
        "# Run this cell\n",
        "\n",
        "players = {\n",
        "    'L. Messi': {\n",
        "        'age': 31,\n",
        "        'nationality': 'Argentina',\n",
        "        'teams': ['Barcelona']\n",
        "    },\n",
        "    'Cristiano Ronaldo': {\n",
        "        'age': 33,\n",
        "        'nationality': 'Portugal',\n",
        "        'teams': ['Juventus', 'Real Madrid', 'Manchester United']\n",
        "    },\n",
        "    'Neymar Jr': {\n",
        "        'age': 26,\n",
        "        'nationality': 'Brazil',\n",
        "        'teams': ['Santos', 'Barcelona', 'Paris Saint-German']\n",
        "    },\n",
        "    'De Gea': {\n",
        "        'age': 27,\n",
        "        'nationality': 'Spain',\n",
        "        'teams': ['Atletico Madrid', 'Manchester United']\n",
        "    },\n",
        "    'K. De Bruyne': {\n",
        "        'age': 27,\n",
        "        'nationality': 'Belgium',\n",
        "        'teams': ['Chelsea', 'Manchester City']\n",
        "    }\n",
        "}"
      ]
    },
    {
      "cell_type": "markdown",
      "metadata": {
        "deletable": false,
        "editable": false,
        "nbgrader": {
          "cell_type": "markdown",
          "checksum": "ccba4689305d3694730ed64cc3630117",
          "grade": false,
          "grade_id": "cell-c53443152551683e",
          "locked": true,
          "schema_version": 3,
          "solution": false,
          "task": false
        },
        "id": "b9C0qscXy5ck"
      },
      "source": [
        "### 4.1) Create a list `player_names` of all the player names in dictionary `players`."
      ]
    },
    {
      "cell_type": "markdown",
      "metadata": {
        "deletable": false,
        "editable": false,
        "nbgrader": {
          "cell_type": "markdown",
          "checksum": "3b0b5c114c1d8a1dc0a7bd0614bb36e5",
          "grade": false,
          "grade_id": "cell-59b73bc797a324dd",
          "locked": true,
          "schema_version": 3,
          "solution": false,
          "task": false
        },
        "id": "UGGnE2pEy5ck"
      },
      "source": [
        "**Starter Code**\n",
        "\n",
        "    player_names ="
      ]
    },
    {
      "cell_type": "code",
      "execution_count": 49,
      "metadata": {
        "deletable": false,
        "nbgrader": {
          "cell_type": "code",
          "checksum": "326610a1dd8683908588dce877596dc4",
          "grade": false,
          "grade_id": "cell-7c9289df331d0247",
          "locked": false,
          "schema_version": 3,
          "solution": true,
          "task": false
        },
        "colab": {
          "base_uri": "https://localhost:8080/"
        },
        "id": "Xu7oQNWny5ck",
        "outputId": "ba56d16a-0bf1-4316-d785-572ef28d9d81"
      },
      "outputs": [
        {
          "output_type": "stream",
          "name": "stdout",
          "text": [
            "['L. Messi', 'Cristiano Ronaldo', 'Neymar Jr', 'De Gea', 'K. De Bruyne']\n"
          ]
        }
      ],
      "source": [
        "# YOUR CODE HERE\n",
        "player_names = list(players.keys())\n",
        "print(player_names)"
      ]
    },
    {
      "cell_type": "code",
      "execution_count": 51,
      "metadata": {
        "deletable": false,
        "editable": false,
        "nbgrader": {
          "cell_type": "code",
          "checksum": "5fdf4e999a0fe0e2ba14b7a5bf7ffc73",
          "grade": true,
          "grade_id": "cell-5d33a8eee819cb46",
          "locked": true,
          "points": 1,
          "schema_version": 3,
          "solution": false,
          "task": false
        },
        "id": "jESVmaVGy5cl"
      },
      "outputs": [],
      "source": [
        "# This test confirms that you have created a list named player_names\n",
        "\n",
        "assert type(player_names) == list\n"
      ]
    },
    {
      "cell_type": "markdown",
      "metadata": {
        "deletable": false,
        "editable": false,
        "nbgrader": {
          "cell_type": "markdown",
          "checksum": "06528e38187a6ff39e647f0c40eef474",
          "grade": false,
          "grade_id": "cell-b9f6a94ed0a0865e",
          "locked": true,
          "schema_version": 3,
          "solution": false,
          "task": false
        },
        "id": "B8QVefCMy5cl"
      },
      "source": [
        "### 4.2) Create a list of tuples `player_nationalities` containing each player's name along with their nationality."
      ]
    },
    {
      "cell_type": "markdown",
      "metadata": {
        "deletable": false,
        "editable": false,
        "nbgrader": {
          "cell_type": "markdown",
          "checksum": "fb799929d73836edd110fd711b310b37",
          "grade": false,
          "grade_id": "cell-b52f98d5a617ecee",
          "locked": true,
          "schema_version": 3,
          "solution": false,
          "task": false
        },
        "id": "8U9b8Fcgy5cl"
      },
      "source": [
        "**Starter Code**\n",
        "\n",
        "    player_nationalities ="
      ]
    },
    {
      "cell_type": "code",
      "execution_count": 52,
      "metadata": {
        "deletable": false,
        "nbgrader": {
          "cell_type": "code",
          "checksum": "e272911e07f5fd6e63264e98caf1cf4d",
          "grade": false,
          "grade_id": "cell-f14953191eda7561",
          "locked": false,
          "schema_version": 3,
          "solution": true,
          "task": false
        },
        "colab": {
          "base_uri": "https://localhost:8080/"
        },
        "id": "o-GXGpwly5cl",
        "outputId": "44d93766-52ef-436a-f2d5-d03e493882be"
      },
      "outputs": [
        {
          "output_type": "execute_result",
          "data": {
            "text/plain": [
              "[('L. Messi', {'age': 31, 'nationality': 'Argentina', 'teams': ['Barcelona']}),\n",
              " ('Cristiano Ronaldo',\n",
              "  {'age': 33,\n",
              "   'nationality': 'Portugal',\n",
              "   'teams': ['Juventus', 'Real Madrid', 'Manchester United']}),\n",
              " ('Neymar Jr',\n",
              "  {'age': 26,\n",
              "   'nationality': 'Brazil',\n",
              "   'teams': ['Santos', 'Barcelona', 'Paris Saint-German']}),\n",
              " ('De Gea',\n",
              "  {'age': 27,\n",
              "   'nationality': 'Spain',\n",
              "   'teams': ['Atletico Madrid', 'Manchester United']}),\n",
              " ('K. De Bruyne',\n",
              "  {'age': 27,\n",
              "   'nationality': 'Belgium',\n",
              "   'teams': ['Chelsea', 'Manchester City']})]"
            ]
          },
          "metadata": {},
          "execution_count": 52
        }
      ],
      "source": [
        "player_nationalities = [(name, nationality) for name, nationality in players.items()]\n",
        "player_nationalities"
      ]
    },
    {
      "cell_type": "code",
      "execution_count": 53,
      "metadata": {
        "deletable": false,
        "editable": false,
        "nbgrader": {
          "cell_type": "code",
          "checksum": "91688b8f74ceef592ecc9efbb349a1eb",
          "grade": true,
          "grade_id": "cell-2e0f87d9c0c4cbb1",
          "locked": true,
          "points": 1,
          "schema_version": 3,
          "solution": false,
          "task": false
        },
        "id": "fFwgsSiVy5cl"
      },
      "outputs": [],
      "source": [
        "# This test confirms that you have created a list named player_nationalities\n",
        "\n",
        "assert type(player_nationalities) == list\n"
      ]
    },
    {
      "cell_type": "markdown",
      "metadata": {
        "deletable": false,
        "editable": false,
        "nbgrader": {
          "cell_type": "markdown",
          "checksum": "1175810b47b5ac3d93583aa9618b0b5d",
          "grade": false,
          "grade_id": "cell-87a014f4e268c1d7",
          "locked": true,
          "schema_version": 3,
          "solution": false,
          "task": false
        },
        "id": "P2ut4UJAy5cl"
      },
      "source": [
        "### 4.3) Define a function `get_players_on_team()` that returns a list of names of all the players who have played on a given team.\n",
        "\n",
        "Your function should take two arguments:\n",
        "\n",
        "- A dictionary of player information\n",
        "- A string containing a team name (for which you are trying to find the player names)"
      ]
    },
    {
      "cell_type": "markdown",
      "metadata": {
        "deletable": false,
        "editable": false,
        "nbgrader": {
          "cell_type": "markdown",
          "checksum": "18854da940f17f98f0d4951599dceafb",
          "grade": false,
          "grade_id": "cell-9546ae6235a3a164",
          "locked": true,
          "schema_version": 3,
          "solution": false,
          "task": false
        },
        "id": "PG_79K9Gy5cl"
      },
      "source": [
        "**Starter Code**\n",
        "\n",
        "    def get_players_on_team(player_dict, team_name):\n",
        "        player_list = []\n",
        "    \n",
        "        return player_list"
      ]
    },
    {
      "cell_type": "code",
      "execution_count": 59,
      "metadata": {
        "deletable": false,
        "nbgrader": {
          "cell_type": "code",
          "checksum": "7b12fad4f24ec822e6d2b6255149e503",
          "grade": false,
          "grade_id": "cell-365f0240380ce928",
          "locked": false,
          "schema_version": 3,
          "solution": true,
          "task": false
        },
        "id": "73wWphQny5cl"
      },
      "outputs": [],
      "source": [
        "# YOUR CODE HERE\n",
        "def get_players_on_team(player_dict, team_name):\n",
        "    player_list = []\n",
        "    for player, info in player_dict.items():\n",
        "      if team_name in info['teams']:\n",
        "        player_list.append(player)\n",
        "    return player_list\n",
        "\n",
        "\n",
        "\n"
      ]
    },
    {
      "cell_type": "code",
      "execution_count": 60,
      "metadata": {
        "deletable": false,
        "editable": false,
        "nbgrader": {
          "cell_type": "code",
          "checksum": "f4984b4f9f03a8aff06898790d09f2e5",
          "grade": true,
          "grade_id": "cell-e74522c0d595f7fd",
          "locked": true,
          "points": 2,
          "schema_version": 3,
          "solution": false,
          "task": false
        },
        "id": "QtH0XXdmy5cl"
      },
      "outputs": [],
      "source": [
        "# This test confirms that get_players_on_team() returns the right names for Manchester United\n",
        "\n",
        "manchester_united_players = ['Cristiano Ronaldo', 'De Gea']\n",
        "players_on_manchester_united = get_players_on_team(players, 'Manchester United')\n",
        "\n",
        "assert players_on_manchester_united == manchester_united_players\n"
      ]
    }
  ],
  "metadata": {
    "kernelspec": {
      "display_name": "Python 3",
      "language": "python",
      "name": "python3"
    },
    "language_info": {
      "codemirror_mode": {
        "name": "ipython",
        "version": 3
      },
      "file_extension": ".py",
      "mimetype": "text/x-python",
      "name": "python",
      "nbconvert_exporter": "python",
      "pygments_lexer": "ipython3",
      "version": "3.7.6"
    },
    "colab": {
      "provenance": [],
      "toc_visible": true,
      "include_colab_link": true
    }
  },
  "nbformat": 4,
  "nbformat_minor": 0
}